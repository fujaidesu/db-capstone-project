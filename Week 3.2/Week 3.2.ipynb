{
 "cells": [
  {
   "cell_type": "code",
   "execution_count": null,
   "id": "b76af202",
   "metadata": {},
   "outputs": [],
   "source": [
    "# Task One"
   ]
  },
  {
   "cell_type": "code",
   "execution_count": 23,
   "id": "496fd8a5",
   "metadata": {},
   "outputs": [
    {
     "name": "stdout",
     "output_type": "stream",
     "text": [
      "Requirement already satisfied: mysql-connector-python in c:\\users\\ronfu\\appdata\\local\\packages\\pythonsoftwarefoundation.python.3.10_qbz5n2kfra8p0\\localcache\\local-packages\\python310\\site-packages (8.0.33)\n",
      "Requirement already satisfied: protobuf<=3.20.3,>=3.11.0 in c:\\users\\ronfu\\appdata\\local\\packages\\pythonsoftwarefoundation.python.3.10_qbz5n2kfra8p0\\localcache\\local-packages\\python310\\site-packages (from mysql-connector-python) (3.20.3)\n"
     ]
    }
   ],
   "source": [
    "!pip install mysql-connector-python"
   ]
  },
  {
   "cell_type": "code",
   "execution_count": 24,
   "id": "50a1099d",
   "metadata": {},
   "outputs": [],
   "source": [
    "import mysql.connector as connector"
   ]
  },
  {
   "cell_type": "code",
   "execution_count": 25,
   "id": "670523ef",
   "metadata": {},
   "outputs": [],
   "source": [
    "connection=connector.connect(host=\"127.0.0.1\", port=3306 ,user=\"admin001\",password=\"Admin001\")"
   ]
  },
  {
   "cell_type": "code",
   "execution_count": 26,
   "id": "54cd6076",
   "metadata": {},
   "outputs": [],
   "source": [
    "# Task two"
   ]
  },
  {
   "cell_type": "code",
   "execution_count": 27,
   "id": "6e3e5b85",
   "metadata": {},
   "outputs": [],
   "source": [
    "query_drop_db = \"drop database if exists littlelemondb\"\n",
    "query_create_db = \"create database if not exists littlelemondb\"\n",
    "query_use_db = \"use littlelemondb\"\n",
    "query_show_db = \"show databases\"\n",
    "query_show_tb = \"show tables\"\n",
    "query_select_table = \"select * from \"\n",
    "query_table_columns = \"show columns from \"\n",
    "query_drop_table = \"drop table if exists \""
   ]
  },
  {
   "cell_type": "code",
   "execution_count": 28,
   "id": "5c0b9ca6",
   "metadata": {},
   "outputs": [],
   "source": [
    "cursor = connection.cursor()\n",
    "cursor_buffered = connection.cursor(buffered = True)\n",
    "cursor_raw = connection.cursor(raw = True)\n",
    "cursor_dict = connection.cursor(dictionary = True)\n",
    "cursor_tuple = connection.cursor(named_tuple = True)"
   ]
  },
  {
   "cell_type": "code",
   "execution_count": 29,
   "id": "bfa324da",
   "metadata": {},
   "outputs": [
    {
     "name": "stdout",
     "output_type": "stream",
     "text": [
      "Database in use: littlelemondb\n"
     ]
    }
   ],
   "source": [
    "query_use_db = \"use littlelemondb\"\n",
    "cursor.execute(query_use_db)\n",
    "print(\"Database in use:\",connection.database)"
   ]
  },
  {
   "cell_type": "code",
   "execution_count": 30,
   "id": "b0d584de",
   "metadata": {},
   "outputs": [
    {
     "name": "stdout",
     "output_type": "stream",
     "text": [
      "List of tables:\n",
      "['Bookings', 'Customers', 'Customerscost50', 'Delivery', 'Employees', 'Menuitemorder1', 'Menuitems', 'Menus', 'Orders', 'Ordersview']\n",
      "\n",
      "\n"
     ]
    }
   ],
   "source": [
    "#List of tables\n",
    "print(\"List of tables:\")\n",
    "lst = []\n",
    "cursor_dict.execute(query_show_tb)\n",
    "for tb in cursor_dict:\n",
    "    for value in tb.values():\n",
    "        lst.append(value.capitalize())\n",
    "print(lst)\n",
    "print('\\n')"
   ]
  },
  {
   "cell_type": "code",
   "execution_count": 31,
   "id": "299d2293",
   "metadata": {},
   "outputs": [],
   "source": [
    "# Task 3\n",
    "# Query with table JOIN"
   ]
  },
  {
   "cell_type": "code",
   "execution_count": 32,
   "id": "7e41f058",
   "metadata": {},
   "outputs": [
    {
     "name": "stdout",
     "output_type": "stream",
     "text": [
      "('CustomerName', 'CustomerPhone', 'TotalCost')\n",
      "('Anna Iversen', '367290901', 86)\n",
      "('Vanessa McCarthy', '367290903', 65)\n"
     ]
    }
   ],
   "source": [
    "view_CustomersCost50_query = \"\"\"\n",
    "CREATE OR REPLACE VIEW CustomersCost50 AS SELECT\n",
    "Customers.CustomerName,\n",
    "Customers.CustomerPhone,\n",
    "Orders.TotalCost\n",
    "From \n",
    "Customers\n",
    "INNER JOIN Bookings on Bookings.CustomerID = Customers.CustomerID\n",
    "INNER JOIN Orders ON Bookings.BookingID = Orders.BookingID\n",
    "Where Orders.TotalCost > 60\n",
    "Order by Orders.TotalCost DESC;\n",
    "\"\"\"\n",
    "cursor_buffered.execute(view_CustomersCost50_query)\n",
    "query = query_select_table + \"CustomersCost50\"\n",
    "cursor_buffered.execute(query)\n",
    "print(cursor_buffered.column_names)\n",
    "for items in cursor_buffered.fetchall():\n",
    "    print(items)"
   ]
  },
  {
   "cell_type": "code",
   "execution_count": null,
   "id": "49407f01",
   "metadata": {},
   "outputs": [],
   "source": []
  }
 ],
 "metadata": {
  "kernelspec": {
   "display_name": "Python 3 (ipykernel)",
   "language": "python",
   "name": "python3"
  },
  "language_info": {
   "codemirror_mode": {
    "name": "ipython",
    "version": 3
   },
   "file_extension": ".py",
   "mimetype": "text/x-python",
   "name": "python",
   "nbconvert_exporter": "python",
   "pygments_lexer": "ipython3",
   "version": "3.10.11"
  }
 },
 "nbformat": 4,
 "nbformat_minor": 5
}
